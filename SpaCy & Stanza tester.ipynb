{
 "cells": [
  {
   "cell_type": "markdown",
   "id": "2f205a69",
   "metadata": {},
   "source": [
    "# SpaCy & Stanza tester"
   ]
  },
  {
   "cell_type": "markdown",
   "id": "cd47aa49",
   "metadata": {},
   "source": [
    "## SpaCy"
   ]
  },
  {
   "cell_type": "code",
   "execution_count": 38,
   "id": "e06683e6",
   "metadata": {},
   "outputs": [],
   "source": [
    "# import SpaCy and load language model\n",
    "import spacy\n",
    "import en_core_web_sm\n",
    "sy_nlp = en_core_web_sm.load()"
   ]
  },
  {
   "cell_type": "code",
   "execution_count": 21,
   "id": "3eccd680",
   "metadata": {},
   "outputs": [],
   "source": [
    "# processing example sentence with the pipeline\n",
    "sy_doc = sy_nlp('European authorities fined Google a record $5.1 billion on Wednesday for abusing its power in the mobile phone market and ordered the company to alter its practices')"
   ]
  },
  {
   "cell_type": "code",
   "execution_count": 22,
   "id": "015e50d1",
   "metadata": {},
   "outputs": [
    {
     "name": "stdout",
     "output_type": "stream",
     "text": [
      "European                 NORP           \n",
      "Google a record $5.1 billionORG            \n",
      "Wednesday                DATE           \n"
     ]
    }
   ],
   "source": [
    "# performing NER on the example sentence\n",
    "for ent in sy_doc.ents:\n",
    "    print(f\"{ent.text:<25}{ent.label_:<15}\")"
   ]
  },
  {
   "cell_type": "markdown",
   "id": "b5e64288",
   "metadata": {},
   "source": [
    "## Stanza"
   ]
  },
  {
   "cell_type": "code",
   "execution_count": 35,
   "id": "4d06b48d",
   "metadata": {},
   "outputs": [
    {
     "name": "stderr",
     "output_type": "stream",
     "text": [
      "2023-07-12 14:47:44 INFO: Checking for updates to resources.json in case models have been updated.  Note: this behavior can be turned off with download_method=None or download_method=DownloadMethod.REUSE_RESOURCES\n"
     ]
    },
    {
     "data": {
      "application/vnd.jupyter.widget-view+json": {
       "model_id": "a5ddc7a18c1a4e2792c886feb5d231fc",
       "version_major": 2,
       "version_minor": 0
      },
      "text/plain": [
       "Downloading https://raw.githubusercontent.com/stanfordnlp/stanza-resources/main/resources_1.5.0.json:   0%|   …"
      ]
     },
     "metadata": {},
     "output_type": "display_data"
    },
    {
     "data": {
      "application/vnd.jupyter.widget-view+json": {
       "model_id": "2e03747f631244d481570856c6015ecd",
       "version_major": 2,
       "version_minor": 0
      },
      "text/plain": [
       "Downloading https://huggingface.co/stanfordnlp/stanza-en/resolve/v1.5.0/models/ner/conll03.pt:   0%|          …"
      ]
     },
     "metadata": {},
     "output_type": "display_data"
    },
    {
     "data": {
      "application/vnd.jupyter.widget-view+json": {
       "model_id": "70c5557c1c1c4e4fbe12f99c564b884b",
       "version_major": 2,
       "version_minor": 0
      },
      "text/plain": [
       "Downloading https://huggingface.co/stanfordnlp/stanza-en/resolve/v1.5.0/models/pretrain/glove.pt:   0%|       …"
      ]
     },
     "metadata": {},
     "output_type": "display_data"
    },
    {
     "name": "stderr",
     "output_type": "stream",
     "text": [
      "2023-07-12 14:47:55 INFO: Loading these models for language: en (English):\n",
      "========================\n",
      "| Processor | Package  |\n",
      "------------------------\n",
      "| tokenize  | combined |\n",
      "| ner       | conll03  |\n",
      "========================\n",
      "\n",
      "2023-07-12 14:47:55 INFO: Using device: cpu\n",
      "2023-07-12 14:47:55 INFO: Loading: tokenize\n",
      "2023-07-12 14:47:56 INFO: Loading: ner\n",
      "2023-07-12 14:47:56 INFO: Done loading processors!\n"
     ]
    }
   ],
   "source": [
    "# import stanza and speficy language model used for NER\n",
    "import stanza\n",
    "st_nlp = stanza.Pipeline(\"en\", processors=\"tokenize,ner\", package={\"ner\": [\"conll03\"]})"
   ]
  },
  {
   "cell_type": "code",
   "execution_count": 36,
   "id": "aff1784b",
   "metadata": {},
   "outputs": [],
   "source": [
    "# processing example sentence with the pipeline\n",
    "st_doc = st_nlp('European authorities fined Google a record $5.1 billion on Wednesday for abusing its power in the mobile phone market and ordered the company to alter its practices')"
   ]
  },
  {
   "cell_type": "code",
   "execution_count": 37,
   "id": "4cdfa1e7",
   "metadata": {},
   "outputs": [
    {
     "name": "stdout",
     "output_type": "stream",
     "text": [
      "European                 MISC           \n",
      "Google                   ORG            \n"
     ]
    }
   ],
   "source": [
    "# performing NER on the example sentence\n",
    "for ent in st_doc.ents:\n",
    "    print(f\"{ent.text:<25}{ent.type:<15}\")"
   ]
  }
 ],
 "metadata": {
  "kernelspec": {
   "display_name": "Python 3",
   "language": "python",
   "name": "python3"
  },
  "language_info": {
   "codemirror_mode": {
    "name": "ipython",
    "version": 3
   },
   "file_extension": ".py",
   "mimetype": "text/x-python",
   "name": "python",
   "nbconvert_exporter": "python",
   "pygments_lexer": "ipython3",
   "version": "3.8.8"
  }
 },
 "nbformat": 4,
 "nbformat_minor": 5
}
